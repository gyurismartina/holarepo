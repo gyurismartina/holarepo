{
 "cells": [
  {
   "cell_type": "code",
   "execution_count": 1,
   "id": "a57878a0-53c5-47e7-971d-536087be6c3e",
   "metadata": {},
   "outputs": [
    {
     "data": {
      "text/plain": [
       "2"
      ]
     },
     "execution_count": 1,
     "metadata": {},
     "output_type": "execute_result"
    }
   ],
   "source": [
    "1+1"
   ]
  },
  {
   "cell_type": "code",
   "execution_count": null,
   "id": "f1f3e480-9e37-45a6-aeeb-3d76ba14b08f",
   "metadata": {
    "tags": []
   },
   "outputs": [],
   "source": [
    "35/5"
   ]
  },
  {
   "cell_type": "code",
   "execution_count": null,
   "id": "a12814df-4723-4a29-91f5-538166c88217",
   "metadata": {},
   "outputs": [],
   "source": []
  },
  {
   "cell_type": "code",
   "execution_count": null,
   "id": "831c6d99-fd96-4169-9c04-8d6e52116543",
   "metadata": {},
   "outputs": [],
   "source": []
  },
  {
   "cell_type": "code",
   "execution_count": 3,
   "id": "1a00606a-2e7c-4a1e-869d-3e47339bbe58",
   "metadata": {},
   "outputs": [
    {
     "ename": "SyntaxError",
     "evalue": "invalid syntax (836987242.py, line 1)",
     "output_type": "error",
     "traceback": [
      "\u001b[0;36m  File \u001b[0;32m\"/tmp/ipykernel_338/836987242.py\"\u001b[0;36m, line \u001b[0;32m1\u001b[0m\n\u001b[0;31m    5X3\u001b[0m\n\u001b[0m      ^\u001b[0m\n\u001b[0;31mSyntaxError\u001b[0m\u001b[0;31m:\u001b[0m invalid syntax\n"
     ]
    }
   ],
   "source": [
    "5X3"
   ]
  },
  {
   "cell_type": "markdown",
   "id": "913686e9-e70e-4914-8d97-9affbcb2ca2e",
   "metadata": {},
   "source": [
    "5*3"
   ]
  },
  {
   "cell_type": "markdown",
   "id": "8cd76dfa-ced9-4c2f-a9de-43183ab7f4b2",
   "metadata": {},
   "source": [
    "My titles"
   ]
  },
  {
   "cell_type": "code",
   "execution_count": null,
   "id": "cabc9161-7c07-43a5-b45d-3aab2db958c6",
   "metadata": {},
   "outputs": [],
   "source": []
  }
 ],
 "metadata": {
  "kernelspec": {
   "display_name": "Python",
   "language": "python",
   "name": "conda-env-python-py"
  },
  "language_info": {
   "codemirror_mode": {
    "name": "ipython",
    "version": 3
   },
   "file_extension": ".py",
   "mimetype": "text/x-python",
   "name": "python",
   "nbconvert_exporter": "python",
   "pygments_lexer": "ipython3",
   "version": "3.7.12"
  }
 },
 "nbformat": 4,
 "nbformat_minor": 5
}
